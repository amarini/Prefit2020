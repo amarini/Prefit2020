{
 "cells": [
  {
   "cell_type": "code",
   "execution_count": 1,
   "metadata": {},
   "outputs": [
    {
     "name": "stdout",
     "output_type": "stream",
     "text": [
      "Welcome to JupyROOT 6.17/01\n"
     ]
    }
   ],
   "source": [
    "import ROOT\n",
    "import numpy as np\n",
    "ROOT.gStyle.SetMarkerSize(1.4)\n",
    "\n",
    "# The commands really help with the speed as they silence the output from RooFit :)\n",
    "ROOT.RooMsgService.instance().setGlobalKillBelow(ROOT.RooFit.ERROR);\n",
    "ROOT.RooMsgService.instance().setSilentMode(True);"
   ]
  },
  {
   "cell_type": "markdown",
   "metadata": {},
   "source": [
    "## Exercise"
   ]
  },
  {
   "cell_type": "code",
   "execution_count": 2,
   "metadata": {},
   "outputs": [
    {
     "name": "stdout",
     "output_type": "stream",
     "text": [
      "TFile**\t\tinputs_session3.root\t\n",
      " TFile*\t\tinputs_session3.root\t\n",
      "  KEY: TH1F\tdata_ggH_hgg__mgg;1\tHistogram of data_ggH_hgg__mgg\n",
      "  KEY: TH1F\tdata_qqH_hgg__mgg;1\tHistogram of data_qqH_hgg__mgg\n",
      "  KEY: TH1F\tdata_ttH_hgg__mgg;1\tHistogram of data_ttH_hgg__mgg\n",
      "  KEY: TH2D\tResponse;1\tsig\n"
     ]
    }
   ],
   "source": [
    "fIn=ROOT.TFile.Open(\"inputs_session3.root\")\n",
    "fIn.ls()\n",
    "# take the data histograms and covert them in RooDataHist.\n",
    "x=ROOT.RooRealVar(\"x\",\"x\",110,160)\n",
    "x.setBins(50)\n",
    "\n",
    "tags=[\"ggH\",\"qqH\",\"ttH\"]\n",
    "\n",
    "th1 = [ fIn.Get(\"data_%s_hgg__mgg\"%t) for t in tags ]\n",
    "dh  = [ ROOT.RooDataHist(\"dh_%s\"%t,\"%s data distribution\"%t,ROOT.RooArgList(x),h) for t,h in zip(tags,th1)]\n",
    "cat = ROOT.RooCategory(\"cat\",\"cat\")\n",
    "[ cat.defineType(t) for t in tags ]\n",
    "\n",
    "# Create the combined data set with 3 categories \n",
    "combData = ROOT.RooDataHist(\"combData\",\"combData\", ROOT.RooArgList(x),\n",
    "                            ROOT.RooFit.Index(cat),\n",
    "                            ROOT.RooFit.Import(\"ggH\",dh[0]),\n",
    "                            ROOT.RooFit.Import(\"qqH\",dh[1]),\n",
    "                            ROOT.RooFit.Import(\"ttH\",dh[2])\n",
    "                           )"
   ]
  },
  {
   "cell_type": "code",
   "execution_count": 3,
   "metadata": {},
   "outputs": [],
   "source": [
    "##############################################\n",
    "#            BACKGROUND MODEL                #\n",
    "##############################################\n",
    "\n",
    "par_b = [ROOT.RooRealVar(\"exp_1_%s\"%t,\"exp_parameter_%s\"%t,-0.2,-1, -0.01) for t in tags ]\n",
    "models_b = [ ROOT.RooExponential(\"b_%s\"%t,\"b_%s\"%t,x,b) for t,b in zip(tags,par_b) ]\n",
    "n_bkg =[ROOT.RooRealVar(\"nbkg_%s\"%t,\"nbkg_%s\"%t,h.Integral(), .5*h.Integral(),2.0*h.Integral()) for t,h in zip(tags,th1)]\n",
    "\n",
    "##############################################\n",
    "#            SIGNAL MODEL                    #\n",
    "##############################################\n",
    "# construct signal model for each tags\n",
    "th2_resp=fIn.Get(\"Response\") ## x= truth, y= reco\n",
    "\n",
    "## for simplicity the mean and sigma of the gaussians are all identical\n",
    "mean=ROOT.RooRealVar(\"mean\",\"mean\",125)\n",
    "sigma=ROOT.RooRealVar(\"sigma\",\"sigma\",1.5) \n",
    "smodel=ROOT.RooGaussian(\"s_model_generic\",\"smodel\",x,mean,sigma) # can be different for each entry in the response matrix."
   ]
  },
  {
   "cell_type": "markdown",
   "metadata": {},
   "source": [
    "In each category (reconstuction tag), all 3 signals are present (3 production modes), but with different composition - This composition is given by the response matrix. Lets take a look at the response matrix - each entry tells me how many signal events of production \"x\" are expected in the category \"y\".\n"
   ]
  },
  {
   "cell_type": "code",
   "execution_count": 4,
   "metadata": {},
   "outputs": [
    {
     "data": {
      "image/png": "[encoded data removed]",
      "text/plain": [
       "<IPython.core.display.Image object>"
      ]
     },
     "metadata": {},
     "output_type": "display_data"
    }
   ],
   "source": [
    "crsp = ROOT.TCanvas()\n",
    "th2_resp.Draw(\"COLZ Text\")\n",
    "crsp.Draw()"
   ]
  },
  {
   "cell_type": "markdown",
   "metadata": {},
   "source": [
    "We need to make functions which scale these expected yields by our parameters of interest (signal strengths). "
   ]
  },
  {
   "cell_type": "code",
   "execution_count": 5,
   "metadata": {},
   "outputs": [],
   "source": [
    "## construct strength modifiers for the truth components\n",
    "r =[ROOT.RooRealVar(\"r_%s\"%t,\"r_%s\"%t,1, 0.,5.0) for t in tags]\n",
    "e =[ [ ROOT.RooRealVar(\"e_%s_cat%s\"%(truth,tag),\"\",th2_resp.GetBinContent(ix+1,iy+1) ) \n",
    "      for ix,truth in enumerate(tags) ] for iy,tag in enumerate(tags) ] \n",
    "scaling = [ [ ROOT.RooFormulaVar(\"scaling_%s_cat%s\"%(truth,tag),\"@0*@1\",ROOT.RooArgList(e[iy][ix],r[ix])) \n",
    "             for ix,truth in enumerate(tags) ] for iy,tag in enumerate(tags)  ]"
   ]
  },
  {
   "cell_type": "code",
   "execution_count": 6,
   "metadata": {},
   "outputs": [],
   "source": [
    "##############################################\n",
    "#            PER CAT MODEL                   #\n",
    "##############################################\n",
    "model_s = [\n",
    "    ROOT.RooAddPdf(\"model_s_%s\"%t,\"\",\n",
    "                   ROOT.RooArgList(smodel,smodel,smodel,models_b[iy]),\n",
    "                   ROOT.RooArgList(scaling[iy][0],scaling[iy][1],scaling[iy][2],n_bkg[iy])\n",
    "                  )  \n",
    "    for iy,t in enumerate(tags)\n",
    "]"
   ]
  },
  {
   "cell_type": "code",
   "execution_count": 7,
   "metadata": {},
   "outputs": [],
   "source": [
    "# Construct the simultaneous model\n",
    "simPdf=ROOT.RooSimultaneous(\"simPdf\",\"simultaneous pdf\",cat) ;\n",
    "[ simPdf.addPdf(model_s[iy],t) for iy,t in enumerate(tags)]\n",
    "\n",
    "##############################################\n",
    "#            FIT STRENGTH                    #\n",
    "##############################################\n",
    "fr=simPdf.fitTo(combData,ROOT.RooFit.Save(),ROOT.RooFit.Minos())\n"
   ]
  },
  {
   "cell_type": "code",
   "execution_count": 8,
   "metadata": {},
   "outputs": [
    {
     "data": {
      "image/png": "[encoded data removed]",
      "text/plain": [
       "<IPython.core.display.Image object>"
      ]
     },
     "metadata": {},
     "output_type": "display_data"
    }
   ],
   "source": [
    "##############################################\n",
    "#           PLOT THE FIT                     #\n",
    "##############################################\n",
    "\n",
    "plot_1 = x.frame()\n",
    "plot_2 = x.frame()\n",
    "plot_3 = x.frame()\n",
    "\n",
    "c=ROOT.TCanvas(\"c_fits\",\"c_fits\",1200,400)\n",
    "c.Divide(3)\n",
    "\n",
    "c.cd(1)\n",
    "combData.plotOn(plot_1,ROOT.RooFit.Cut(\"cat==cat::ggH\"))\n",
    "simPdf.plotOn(plot_1,ROOT.RooFit.Slice(cat,\"ggH\"),ROOT.RooFit.ProjWData(combData))\n",
    "plot_1.Draw()\n",
    "\n",
    "c.cd(2)\n",
    "combData.plotOn(plot_2,ROOT.RooFit.Cut(\"cat==cat::qqH\"))\n",
    "simPdf.plotOn(plot_2,ROOT.RooFit.Slice(cat,\"qqH\"),ROOT.RooFit.ProjWData(combData))\n",
    "plot_2.Draw()\n",
    "\n",
    "c.cd(3)\n",
    "combData.plotOn(plot_3,ROOT.RooFit.Cut(\"cat==cat::ttH\"))\n",
    "simPdf.plotOn(plot_3,ROOT.RooFit.Slice(cat,\"ttH\"),ROOT.RooFit.ProjWData(combData))\n",
    "simPdf.paramOn(plot_3)\n",
    "plot_3.Draw()\n",
    "\n",
    "c.Draw()"
   ]
  },
  {
   "cell_type": "markdown",
   "metadata": {},
   "source": [
    "We can convert these strengths into cross-sections if we know the reference cross-sections - In our case, the reference was SM Higgs production in pp collisions at 13 TeV. For each strength,  r = xsec/reference xsec \n"
   ]
  },
  {
   "cell_type": "code",
   "execution_count": 9,
   "metadata": {},
   "outputs": [
    {
     "name": "stdout",
     "output_type": "stream",
     "text": [
      "strengths:\n",
      "r_ggH: 0.981747 +/- (-0.011194,0.011270) -> 47.693288\n",
      "r_qqH: 1.000471 +/- (-0.046289,0.046872) -> 3.781781\n",
      "r_ttH: 0.902884 +/- (-0.141690,0.148022) -> 0.457853\n"
     ]
    }
   ],
   "source": [
    "input_cross_sections=[ 48.58, 3.78, 0.5071 ]\n",
    "print 'strengths:'\n",
    "print \"\\n\".join([\"%s: %f +/- (%f,%f) -> %f\"%(ri.GetName(),ri.getVal(),ri.getAsymErrorLo(),ri.getAsymErrorHi(), ri.getVal()*xs) \n",
    "                 for ri,xs in zip(r,input_cross_sections)\n",
    "                ])"
   ]
  },
  {
   "cell_type": "markdown",
   "metadata": {},
   "source": [
    "We can also take a look at the correlation between these measurements."
   ]
  },
  {
   "cell_type": "code",
   "execution_count": 10,
   "metadata": {},
   "outputs": [
    {
     "name": "stdout",
     "output_type": "stream",
     "text": [
      "TH1.Print Name  = cov-matrix, Entries= 9, Total sum= 2.76734\n"
     ]
    }
   ],
   "source": [
    "#and the covariance matrix:\n",
    "cor = ROOT.TH2D(\"cov-matrix\",\"cor-matrix\",3,0,3,3,0,3)\n",
    "\n",
    "[ [ cor.SetBinContent(ix+1,iy+1, fr.correlation(r[ix],r[iy])) for ix,truth in enumerate(tags) ] for iy,truth2 in enumerate(tags)  ]\n",
    "[ [ (cor.GetXaxis().SetBinLabel(ix+1,truth), cor.GetYaxis().SetBinLabel(iy+1,truth2)) for ix,truth in enumerate(tags) ] for iy,truth2 in enumerate(tags)  ]\n",
    "\n",
    "cor.Print()"
   ]
  },
  {
   "cell_type": "code",
   "execution_count": 11,
   "metadata": {},
   "outputs": [
    {
     "data": {
      "image/png": "[encoded data removed]",
      "text/plain": [
       "<IPython.core.display.Image object>"
      ]
     },
     "metadata": {},
     "output_type": "display_data"
    }
   ],
   "source": [
    "c=ROOT.TCanvas(\"cov\",\"Correlation Matrix\",400,400)\n",
    "cor.Draw(\"COLZ Text\")\n",
    "c.Draw()"
   ]
  },
  {
   "cell_type": "markdown",
   "metadata": {},
   "source": [
    "## Part 2: EFT fit"
   ]
  },
  {
   "cell_type": "markdown",
   "metadata": {},
   "source": [
    "In this part, we are going to extract the values of the EFT coefficients which best match our data. We are using the SILH basis, and will be interested in 2 parameters $c_{G}$ and the linear combination $c_{HW}-c_{B}$. We assume all other EFT coefficients are 0, including $c_{HW}+c_{B}$.\n",
    "\n",
    "Now we know the scaling should be \n",
    "\n",
    "$ r_{ggH} = 1+8.73c'_{G} + 19.5 (c'_{G})^{2} $ \n",
    "\n",
    "$ r_{qqH} = 1+0.6c_{B}-0.797c_{HW}+3.42c_{B}^{2}+114c_{HW}^{2}+15.3c_{HW}c_{B}$\n",
    "\n",
    "$ r_{ttH} = 1+0.115c'_{G} +c^{2}_{B}+5.87c_{HW}^{2}+0.0297(c'_{G})^{2}-0.318c_{B}c_{HW}$ \n",
    "\n",
    "We can re-arrange them to \n",
    "\n",
    "$ r_{ggH} = 1+8.73c'_{G} + 19.5 (c'_{G})^{2} $ \n",
    "\n",
    "$ r_{qqH} = 1 -0.6985(c_{HW}-c_{B})+25.53(c_{HW}-c_{B})^{2}$\n",
    "\n",
    "$r_{ttH}  = 1. + (0.115+0.0297c'_{G})c'_{G}+1.797(c_{HW}-c_{B})^2 $"
   ]
  },
  {
   "cell_type": "code",
   "execution_count": 12,
   "metadata": {},
   "outputs": [],
   "source": [
    "eft=[ROOT.RooRealVar(\"cG1\",\"cG1\",0.,-20,20),ROOT.RooRealVar(\"cHWmB\",\"cHWmB\",0.,-20,20) ]\n",
    "eft_scaling_function = [ # if eft =0 --> SM. ggH, qqH, ttH\n",
    "     ROOT.RooFormulaVar(\"ggH_scaling\",\"1. + cG1*(8.73+19.5*cG1)\",ROOT.RooArgList(eft[0]) ),\n",
    "     ROOT.RooFormulaVar(\"qqH_scaling\",\"1. + 25.53 * cHWmB *cHWmB +cHWmB*(-0.6985)\", ROOT.RooArgList(eft[0],eft[1]) ),\n",
    "     ROOT.RooFormulaVar(\"ttH_scaling\",\"1. + (0.115+0.0297*cG1)*cG1+1.797*cHWmB*cHWmB\",ROOT.RooArgList(eft[0],eft[1]) ),\n",
    "    ]\n",
    "# e =[ [ ROOT.RooRealVar(\"e_%s_cat%s\"%(truth,tag),\"\",th2_resp.GetBinContent(ix+1,iy+1) ) \n",
    "#  for ix,truth in enumerate(tags) ] for iy,tag in enumerate(tags) ] \n",
    "eft_scaling = [ [\n",
    "    ROOT.RooFormulaVar(\"y_%s_cat%s\"%(truth,tag),\"@0*@1\",ROOT.RooArgList(e[iy][ix],eft_scaling_function[ix]))\n",
    "    for ix,truth in enumerate(tags) ] for iy,tag in enumerate(tags) \n",
    "]\n",
    "\n",
    "model_eft = [\n",
    "    ROOT.RooAddPdf(\"model_s_%s\"%t,\"\",\n",
    "                   ROOT.RooArgList(smodel,smodel,smodel,models_b[iy]),\n",
    "                   ROOT.RooArgList(eft_scaling[iy][0],eft_scaling[iy][1],eft_scaling[iy][2],n_bkg[iy])\n",
    "                  )  \n",
    "    for iy,t in enumerate(tags)\n",
    "]\n"
   ]
  },
  {
   "cell_type": "markdown",
   "metadata": {},
   "source": [
    "As before, we create a simultaneous pdf across the 3 categories, and fit to the data. "
   ]
  },
  {
   "cell_type": "code",
   "execution_count": 13,
   "metadata": {},
   "outputs": [
    {
     "name": "stdout",
     "output_type": "stream",
     "text": [
      " FUNCTION MUST BE MINIMIZED BEFORE CALLING MINOs     \n",
      " FUNCTION MUST BE MINIMIZED BEFORE CALLING MINOs     \n"
     ]
    }
   ],
   "source": [
    "# Construct the simultaneous model\n",
    "eftPdf=ROOT.RooSimultaneous(\"eftPdf\",\"simultaneous pdf\",cat) ;\n",
    "[ eftPdf.addPdf(model_eft[iy],t) for iy,t in enumerate(tags)]\n",
    "\n",
    "##############################################\n",
    "#            FIT STRENGTH                    #\n",
    "##############################################\n",
    "fr=eftPdf.fitTo(combData,ROOT.RooFit.Save(),ROOT.RooFit.Minos())\n"
   ]
  },
  {
   "cell_type": "markdown",
   "metadata": {},
   "source": [
    "Let's also plot the 2D -ve log-likelihood too. "
   ]
  },
  {
   "cell_type": "code",
   "execution_count": 14,
   "metadata": {},
   "outputs": [
    {
     "name": "stdout",
     "output_type": "stream",
     "text": [
      "strengths:\n",
      "cG1: -0.002140 +/- (0.000000,0.000000)\n",
      "cHW-cB: 0.004434 +/- (-0.031411,0.058284)\n"
     ]
    },
    {
     "name": "stderr",
     "output_type": "stream",
     "text": [
      "Warning in <TFile::Append>: Replacing existing TH1: cov-matrix (Potential memory leak).\n",
      "Warning in <TCanvas::Constructor>: Deleting canvas with same name: cov\n"
     ]
    },
    {
     "data": {
      "image/png": "[encoded data removed]",
      "text/plain": [
       "<IPython.core.display.Image object>"
      ]
     },
     "metadata": {},
     "output_type": "display_data"
    }
   ],
   "source": [
    "## eft boundaries\n",
    "print 'strengths:'\n",
    "print \"\\n\".join([\"%s: %f +/- (%f,%f)\"%(n,ri.getVal(),ri.getAsymErrorLo(),ri.getAsymErrorHi()) \n",
    "                for n,ri in zip([\"cG1\",\"cHW-cB\"],eft)\n",
    "                ])\n",
    "\n",
    "params=[\"cG1\",\"cHWmB\"]\n",
    "#and the covariance matrix:\n",
    "cor2 = ROOT.TH2D(\"cov-matrix\",\"cor-matrix\",2,0,2,2,0,2)\n",
    "[ [ cor2.SetBinContent(ix+1,iy+1, fr.correlation(p1,p2)) for ix,p1 in enumerate(params) ] for iy,p2 in enumerate(params)  ]\n",
    "[ [ (cor2.GetXaxis().SetBinLabel(ix+1,p1), cor.GetYaxis().SetBinLabel(iy+1,p2)) for ix,p1 in enumerate(params) ] for iy,p2 in enumerate(params)  ]\n",
    "c=ROOT.TCanvas(\"cov\",\"Correlation Matrix\",400,400)\n",
    "cor2.Draw(\"COLZ Text\")\n",
    "c.Draw()"
   ]
  },
  {
   "cell_type": "code",
   "execution_count": 15,
   "metadata": {},
   "outputs": [
    {
     "data": {
      "image/png": "[encoded data removed]",
      "text/plain": [
       "<IPython.core.display.Image object>"
      ]
     },
     "metadata": {},
     "output_type": "display_data"
    }
   ],
   "source": [
    "nll2minimum = 2*fr.minNll()\n",
    "\n",
    "nll = eftPdf.createNLL(combData)\n",
    "\n",
    "h2dnll = ROOT.TH2F(\"h2dnll\",\";cG1;cHW-cB;-2#Delta Log(L)\",50,-1,1,50,-1,1)\n",
    "\n",
    "for ix in range(h2dnll.GetNbinsX()): \n",
    "    eft[0].setVal(h2dnll.GetXaxis().GetBinCenter(ix+1)) # TH1/TH2 bins start at 1\n",
    "    for iy in range(h2dnll.GetNbinsY()): \n",
    "        eft[1].setVal(h2dnll.GetYaxis().GetBinCenter(iy+1))\n",
    "        h2dnll.SetBinContent(ix+1,iy+1,2*nll.getVal()-nll2minimum)\n",
    "    \n",
    "c2d = ROOT.TCanvas()\n",
    "h2dnll.Draw(\"COLZ\")\n",
    "c2d.Draw()\n"
   ]
  },
  {
   "cell_type": "code",
   "execution_count": 16,
   "metadata": {},
   "outputs": [],
   "source": [
    "# 1D LH scan for cG1\n",
    "eft[0].setConstant(True);\n",
    "gr_cG1 = ROOT.TGraph(); \n",
    "\n",
    "minim = ROOT.RooMinimizer(nll);\n",
    "for ix,gr_cG1_v in enumerate(np.arange(-1,1,0.1)):\n",
    "    eft[0].setVal(gr_cG1_v)\n",
    "    minim.minimize(\"Minuit\",\"migrad\");\n",
    "    gr_cG1.SetPoint(ix,gr_cG1_v,2*nll.getVal()-nll2minimum)    \n",
    "\n",
    "eft[0].setConstant(False);\n",
    "eft[1].setVal(0) # back to close to minimum \n",
    "eft[0].setVal(0);\n",
    "\n",
    "# 1D LH scan for cHW-cB\n",
    "eft[1].setConstant(True);\n",
    "gr_cHWmB = ROOT.TGraph(); \n",
    "\n",
    "minim = ROOT.RooMinimizer(nll);\n",
    "for ix,gr_cHWmB_v in enumerate(np.arange(-1,1,0.1)):\n",
    "    eft[1].setVal(gr_cHWmB_v)\n",
    "    minim.minimize(\"Minuit\",\"migrad\");\n",
    "    gr_cHWmB.SetPoint(ix,gr_cHWmB_v,2*nll.getVal()-nll2minimum)    \n",
    "\n",
    "eft[1].setConstant(False);\n",
    "eft[1].setVal(0) # back to close to minimum \n",
    "eft[0].setVal(0);\n"
   ]
  },
  {
   "cell_type": "code",
   "execution_count": 17,
   "metadata": {},
   "outputs": [
    {
     "data": {
      "image/png": "[encoded data removed]",
      "text/plain": [
       "<IPython.core.display.Image object>"
      ]
     },
     "metadata": {},
     "output_type": "display_data"
    }
   ],
   "source": [
    "gr_cG1.GetYaxis().SetTitle(\"-2#Delta Log(L)\") \n",
    "gr_cG1.GetXaxis().SetTitle(\"c'_{G}\") \n",
    "gr_cG1.SetMarkerStyle(20)\n",
    "\n",
    "\n",
    "gr_cHWmB.GetYaxis().SetTitle(\"-2#Delta Log(L)\") \n",
    "gr_cHWmB.GetXaxis().SetTitle(\"c_{HW}-c_{B}\") \n",
    "gr_cHWmB.SetMarkerStyle(20)\n",
    "\n",
    "c_1D = ROOT.TCanvas(\"LH1D\",\"LH1D\",800,400)\n",
    "c_1D.Divide(2)\n",
    "c_1D.cd(1)\n",
    "gr_cG1.Draw(\"ALP\")\n",
    "c_1D.cd(2)\n",
    "gr_cHWmB.Draw(\"ALP\")\n",
    "c_1D.Draw()"
   ]
  },
  {
   "cell_type": "markdown",
   "metadata": {},
   "source": [
    "You can see there is a double minimum in the $c'_{G}$ which should be accounted for in the 1D confidence intervals. \n",
    "\n",
    "We can look at how the uncertainty on $c_{HW}-c_{B}$ looks like if we fix $c'_{G}$ to 0. If we had stronger correlations, do you think it would make more of a difference?"
   ]
  },
  {
   "cell_type": "code",
   "execution_count": 18,
   "metadata": {},
   "outputs": [
    {
     "name": "stdout",
     "output_type": "stream",
     "text": [
      "-------- FIT 1 ---------\n",
      "cHWmB 0.00911201443643 +/- -0.0381409282346 0.0468077166085\n",
      "cG1 0.0 +/- 0.0 0.00142206264717\n",
      "-------- FIT 2 ---------\n",
      "cG1 -0.00214323954531 +/- -0.00129529052469 0.00129318494938\n"
     ]
    },
    {
     "data": {
      "text/plain": [
       "[None, None]"
      ]
     },
     "execution_count": 18,
     "metadata": {},
     "output_type": "execute_result"
    }
   ],
   "source": [
    "## assuming cG1=0\n",
    "eft[0].setVal(0.)\n",
    "eft[0].setConstant()\n",
    "ROOT.RooMsgService.instance().setGlobalKillBelow(ROOT.RooFit.WARNING)\n",
    "ROOT.RooMsgService.instance().setSilentMode(True);\n",
    "\n",
    "eftPdf.fitTo(combData,ROOT.RooFit.Minos(),ROOT.RooFit.PrintEvalErrors(-1) )\n",
    "print \"-------- FIT 1 ---------\"\n",
    "print eft[1].GetName(),eft[1].getVal(), \"+/-\",eft[1].getAsymErrorLo(),eft[1].getAsymErrorHi()\n",
    "print eft[0].GetName(),eft[0].getVal(), \"+/-\",eft[0].getAsymErrorLo(),eft[0].getAsymErrorHi()\n",
    "print \"-------- FIT 2 ---------\"\n",
    "eft[0].setVal(0.)\n",
    "eft[0].setConstant(False)\n",
    "eft[1].setVal(0.)\n",
    "eft[1].setConstant(True)\n",
    "\n",
    "eftPdf.fitTo(combData,ROOT.RooFit.Minos(),ROOT.RooFit.PrintEvalErrors(-1) )\n",
    "print eft[0].GetName(),eft[0].getVal(), \"+/-\",eft[0].getAsymErrorLo(),eft[0].getAsymErrorHi()\n",
    "\n",
    "# reset\n",
    "[e.setVal(0.) for e in eft]\n",
    "[e.setConstant(False) for e in eft]"
   ]
  },
  {
   "cell_type": "markdown",
   "metadata": {},
   "source": [
    "## Part 3: Covariance matrix propagation\n",
    "\n",
    "Assuming gaussian error propagation. Model for nuisances and correlation is unprecise."
   ]
  },
  {
   "cell_type": "code",
   "execution_count": 19,
   "metadata": {},
   "outputs": [
    {
     "name": "stdout",
     "output_type": "stream",
     "text": [
      "[ 0.98174738  1.00047124  0.90288444]\n",
      "[[  1.26137932e-04  -3.50345308e-05  -8.35948767e-05]\n",
      " [ -3.50345308e-05   2.16882841e-03   1.42531245e-05]\n",
      " [ -8.35948767e-05   1.42531245e-05   2.09196625e-02]]\n",
      "[0.011231114466467462, 0.0465706818415601, 0.14463631125938925]\n"
     ]
    }
   ],
   "source": [
    "mes_a=np.array([ ri.getVal() for ri in r ])\n",
    "err_a=np.array([ ri.getError()  for ri in r])\n",
    "cor_a=np.array(\n",
    "    [\n",
    "     [ cor.GetBinContent(i+1,j+1) for i in range(0,len(r)) ] for j in range(0,len(r))  \n",
    "    ]\n",
    ")\n",
    "cov_a=np.multiply(err_a[:,np.newaxis],np.multiply(cor_a,err_a))\n",
    "icov_a = np.linalg.inv(cov_a) # inverse of the covariance matrix\n",
    "\n",
    "import math\n",
    "print mes_a\n",
    "print cov_a\n",
    "print [math.sqrt(cov_a[i,i]) for i in range(0,len(mes_a))]"
   ]
  },
  {
   "cell_type": "code",
   "execution_count": 20,
   "metadata": {},
   "outputs": [
    {
     "data": {
      "text/plain": [
       "array([[  4.00000000e+00,   6.00000000e-04],\n",
       "       [  6.00000000e+03,   9.00000000e+01]])"
      ]
     },
     "execution_count": 20,
     "metadata": {},
     "output_type": "execute_result"
    }
   ],
   "source": [
    "# test broadcasting\n",
    "a = np.array([ [1,0.0001],[1000.,10]])\n",
    "b = np.array([2,3])\n",
    "np.multiply(b[:,np.newaxis],np.multiply(a,b))"
   ]
  },
  {
   "cell_type": "code",
   "execution_count": 21,
   "metadata": {},
   "outputs": [
    {
     "name": "stdout",
     "output_type": "stream",
     "text": [
      "[-0.00214529]\n"
     ]
    }
   ],
   "source": [
    "from scipy.optimize import minimize\n",
    "def chi2_cG(p):\n",
    "    global mes_a,icov_a\n",
    "    ##pars[0] = cG1\n",
    "    sc=np.array([\n",
    "        1.+p[0]*(8.73+19.5*p[0]),\n",
    "        1.,\n",
    "        1.+0.115*p[0]+0.0297*p[0]**2\n",
    "    ])\n",
    "    return np.dot(mes_a-sc,np.dot(icov_a,mes_a-sc))\n",
    "#minimize\n",
    "cG0=np.array([0.])\n",
    "rbf=minimize(chi2_cG,cG0,\n",
    "            method='SLSQP',\n",
    "            jac=False);\n",
    "print rbf.x ## strength modifiers."
   ]
  },
  {
   "cell_type": "code",
   "execution_count": null,
   "metadata": {},
   "outputs": [],
   "source": [
    "import matplotlib.pyplot as plt\n",
    "fig = plt.figure()\n",
    "plt.xlabel('cG1')\n",
    "plt.ylabel('chi2')\n",
    "#ax = plt.axes()\n",
    "cG_l=np.arange(-.006,-.0,0.0001)# start, stop, step\n",
    "chi2_l=np.array([chi2_cG(np.array([s])) for s in cG_l]).flatten()\n",
    "plt.plot (cG_l, chi2_l-rbf.fun,color='lightskyblue',label=\"chi2\")\n",
    "plt.legend()\n",
    "plt.show()"
   ]
  }
 ],
 "metadata": {
  "kernelspec": {
   "display_name": "Python 2",
   "language": "python",
   "name": "python2"
  },
  "language_info": {
   "codemirror_mode": {
    "name": "ipython",
    "version": 2
   },
   "file_extension": ".py",
   "mimetype": "text/x-python",
   "name": "python",
   "nbconvert_exporter": "python",
   "pygments_lexer": "ipython2",
   "version": "2.7.10"
  }
 },
 "nbformat": 4,
 "nbformat_minor": 2
}
